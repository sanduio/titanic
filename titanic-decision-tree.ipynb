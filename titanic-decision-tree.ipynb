{
 "cells": [
  {
   "cell_type": "markdown",
   "metadata": {},
   "source": [
    "# Titanic - Decision Tree"
   ]
  },
  {
   "cell_type": "markdown",
   "metadata": {
    "papermill": {
     "duration": 0.016399,
     "end_time": "2022-06-30T21:38:53.579914",
     "exception": false,
     "start_time": "2022-06-30T21:38:53.563515",
     "status": "completed"
    },
    "tags": []
   },
   "source": [
    "In this notebook, I will use the Decision Tree algorithm for classification (also known as Classification Tree) to predict which passengers survived the Titanic's shipwreck."
   ]
  },
  {
   "cell_type": "markdown",
   "metadata": {
    "papermill": {
     "duration": 0.015243,
     "end_time": "2022-06-30T21:38:53.610511",
     "exception": false,
     "start_time": "2022-06-30T21:38:53.595268",
     "status": "completed"
    },
    "tags": []
   },
   "source": [
    "#### Table of contents\n",
    "\n",
    "[1. Data](#data) <br/>\n",
    "[2. Building the Decision Tree](#building) <br/>\n",
    "&nbsp;&nbsp;&nbsp;&nbsp;[2.1. Exploring alternative trees: different criteria for partitioning the tree](#alternative_criteria) <br/>\n",
    "&nbsp;&nbsp;&nbsp;&nbsp;[2.2. Exploring alternative trees: changing the maximum depth](#alternative_depth) <br/>\n",
    "&nbsp;&nbsp;&nbsp;&nbsp;[2.3. Exploring alternative trees: training with less features](#alternative_features) <br/>\n",
    "&nbsp;&nbsp;&nbsp;&nbsp;[2.4. Exploring alternative trees: setting a maximum number of samples in a leaf](#alternative_samples)<br/>\n",
    "[3. Predictions for the test dataset](#test)"
   ]
  },
  {
   "cell_type": "markdown",
   "metadata": {
    "papermill": {
     "duration": 0.014672,
     "end_time": "2022-06-30T21:38:53.640091",
     "exception": false,
     "start_time": "2022-06-30T21:38:53.625419",
     "status": "completed"
    },
    "tags": []
   },
   "source": [
    "## 1. Data <a name='data'/>"
   ]
  },
  {
   "cell_type": "markdown",
   "metadata": {
    "papermill": {
     "duration": 0.015738,
     "end_time": "2022-06-30T21:38:53.670728",
     "exception": false,
     "start_time": "2022-06-30T21:38:53.654990",
     "status": "completed"
    },
    "tags": []
   },
   "source": [
    "I will be using the training and testing datasets given at the Titanic Competition. In a <a href='./titanic-exploratory-data-analysis.ipynb'>previous notebook</a>, I performed an Exploratory Data Analysis on the dataset, and cleaned the data. I will use the clean datasets to fit the model and make the predictions here."
   ]
  },
  {
   "cell_type": "code",
   "execution_count": 1,
   "metadata": {
    "execution": {
     "iopub.execute_input": "2022-06-30T21:38:53.703267Z",
     "iopub.status.busy": "2022-06-30T21:38:53.702513Z",
     "iopub.status.idle": "2022-06-30T21:38:53.716400Z",
     "shell.execute_reply": "2022-06-30T21:38:53.715646Z"
    },
    "papermill": {
     "duration": 0.03291,
     "end_time": "2022-06-30T21:38:53.718634",
     "exception": false,
     "start_time": "2022-06-30T21:38:53.685724",
     "status": "completed"
    },
    "tags": []
   },
   "outputs": [],
   "source": [
    "import pandas as pd"
   ]
  },
  {
   "cell_type": "code",
   "execution_count": 2,
   "metadata": {
    "execution": {
     "iopub.execute_input": "2022-06-30T21:38:53.752027Z",
     "iopub.status.busy": "2022-06-30T21:38:53.751381Z",
     "iopub.status.idle": "2022-06-30T21:38:53.796947Z",
     "shell.execute_reply": "2022-06-30T21:38:53.795966Z"
    },
    "papermill": {
     "duration": 0.065842,
     "end_time": "2022-06-30T21:38:53.799869",
     "exception": false,
     "start_time": "2022-06-30T21:38:53.734027",
     "status": "completed"
    },
    "tags": []
   },
   "outputs": [
    {
     "data": {
      "text/html": [
       "<div>\n",
       "<style scoped>\n",
       "    .dataframe tbody tr th:only-of-type {\n",
       "        vertical-align: middle;\n",
       "    }\n",
       "\n",
       "    .dataframe tbody tr th {\n",
       "        vertical-align: top;\n",
       "    }\n",
       "\n",
       "    .dataframe thead th {\n",
       "        text-align: right;\n",
       "    }\n",
       "</style>\n",
       "<table border=\"1\" class=\"dataframe\">\n",
       "  <thead>\n",
       "    <tr style=\"text-align: right;\">\n",
       "      <th></th>\n",
       "      <th>Survived</th>\n",
       "      <th>Pclass</th>\n",
       "      <th>Sex</th>\n",
       "      <th>Age</th>\n",
       "      <th>SibSp</th>\n",
       "      <th>Parch</th>\n",
       "      <th>Fare</th>\n",
       "      <th>Embarked</th>\n",
       "      <th>SibSpAboard</th>\n",
       "      <th>ParChAboard</th>\n",
       "    </tr>\n",
       "    <tr>\n",
       "      <th>PassengerId</th>\n",
       "      <th></th>\n",
       "      <th></th>\n",
       "      <th></th>\n",
       "      <th></th>\n",
       "      <th></th>\n",
       "      <th></th>\n",
       "      <th></th>\n",
       "      <th></th>\n",
       "      <th></th>\n",
       "      <th></th>\n",
       "    </tr>\n",
       "  </thead>\n",
       "  <tbody>\n",
       "    <tr>\n",
       "      <th>1</th>\n",
       "      <td>0</td>\n",
       "      <td>3</td>\n",
       "      <td>male</td>\n",
       "      <td>22.0</td>\n",
       "      <td>1</td>\n",
       "      <td>0</td>\n",
       "      <td>7.2500</td>\n",
       "      <td>S</td>\n",
       "      <td>1</td>\n",
       "      <td>0</td>\n",
       "    </tr>\n",
       "    <tr>\n",
       "      <th>2</th>\n",
       "      <td>1</td>\n",
       "      <td>1</td>\n",
       "      <td>female</td>\n",
       "      <td>38.0</td>\n",
       "      <td>1</td>\n",
       "      <td>0</td>\n",
       "      <td>71.2833</td>\n",
       "      <td>C</td>\n",
       "      <td>1</td>\n",
       "      <td>0</td>\n",
       "    </tr>\n",
       "    <tr>\n",
       "      <th>3</th>\n",
       "      <td>1</td>\n",
       "      <td>3</td>\n",
       "      <td>female</td>\n",
       "      <td>26.0</td>\n",
       "      <td>0</td>\n",
       "      <td>0</td>\n",
       "      <td>7.9250</td>\n",
       "      <td>S</td>\n",
       "      <td>0</td>\n",
       "      <td>0</td>\n",
       "    </tr>\n",
       "    <tr>\n",
       "      <th>4</th>\n",
       "      <td>1</td>\n",
       "      <td>1</td>\n",
       "      <td>female</td>\n",
       "      <td>35.0</td>\n",
       "      <td>1</td>\n",
       "      <td>0</td>\n",
       "      <td>53.1000</td>\n",
       "      <td>S</td>\n",
       "      <td>1</td>\n",
       "      <td>0</td>\n",
       "    </tr>\n",
       "    <tr>\n",
       "      <th>5</th>\n",
       "      <td>0</td>\n",
       "      <td>3</td>\n",
       "      <td>male</td>\n",
       "      <td>35.0</td>\n",
       "      <td>0</td>\n",
       "      <td>0</td>\n",
       "      <td>8.0500</td>\n",
       "      <td>S</td>\n",
       "      <td>0</td>\n",
       "      <td>0</td>\n",
       "    </tr>\n",
       "  </tbody>\n",
       "</table>\n",
       "</div>"
      ],
      "text/plain": [
       "             Survived  Pclass     Sex   Age  SibSp  Parch     Fare Embarked  \\\n",
       "PassengerId                                                                   \n",
       "1                   0       3    male  22.0      1      0   7.2500        S   \n",
       "2                   1       1  female  38.0      1      0  71.2833        C   \n",
       "3                   1       3  female  26.0      0      0   7.9250        S   \n",
       "4                   1       1  female  35.0      1      0  53.1000        S   \n",
       "5                   0       3    male  35.0      0      0   8.0500        S   \n",
       "\n",
       "             SibSpAboard  ParChAboard  \n",
       "PassengerId                            \n",
       "1                      1            0  \n",
       "2                      1            0  \n",
       "3                      0            0  \n",
       "4                      1            0  \n",
       "5                      0            0  "
      ]
     },
     "execution_count": 2,
     "metadata": {},
     "output_type": "execute_result"
    }
   ],
   "source": [
    "train_df = pd.read_csv('data/clean_titanic_train.csv', index_col='PassengerId')\n",
    "train_df.head()"
   ]
  },
  {
   "cell_type": "code",
   "execution_count": 3,
   "metadata": {
    "execution": {
     "iopub.execute_input": "2022-06-30T21:38:53.832409Z",
     "iopub.status.busy": "2022-06-30T21:38:53.832080Z",
     "iopub.status.idle": "2022-06-30T21:38:53.850998Z",
     "shell.execute_reply": "2022-06-30T21:38:53.850361Z"
    },
    "papermill": {
     "duration": 0.037218,
     "end_time": "2022-06-30T21:38:53.852884",
     "exception": false,
     "start_time": "2022-06-30T21:38:53.815666",
     "status": "completed"
    },
    "tags": []
   },
   "outputs": [
    {
     "data": {
      "text/html": [
       "<div>\n",
       "<style scoped>\n",
       "    .dataframe tbody tr th:only-of-type {\n",
       "        vertical-align: middle;\n",
       "    }\n",
       "\n",
       "    .dataframe tbody tr th {\n",
       "        vertical-align: top;\n",
       "    }\n",
       "\n",
       "    .dataframe thead th {\n",
       "        text-align: right;\n",
       "    }\n",
       "</style>\n",
       "<table border=\"1\" class=\"dataframe\">\n",
       "  <thead>\n",
       "    <tr style=\"text-align: right;\">\n",
       "      <th></th>\n",
       "      <th>Pclass</th>\n",
       "      <th>Sex</th>\n",
       "      <th>Age</th>\n",
       "      <th>SibSp</th>\n",
       "      <th>Parch</th>\n",
       "      <th>Fare</th>\n",
       "      <th>Embarked</th>\n",
       "      <th>SibSpAboard</th>\n",
       "      <th>ParChAboard</th>\n",
       "    </tr>\n",
       "    <tr>\n",
       "      <th>PassengerId</th>\n",
       "      <th></th>\n",
       "      <th></th>\n",
       "      <th></th>\n",
       "      <th></th>\n",
       "      <th></th>\n",
       "      <th></th>\n",
       "      <th></th>\n",
       "      <th></th>\n",
       "      <th></th>\n",
       "    </tr>\n",
       "  </thead>\n",
       "  <tbody>\n",
       "    <tr>\n",
       "      <th>892</th>\n",
       "      <td>3</td>\n",
       "      <td>male</td>\n",
       "      <td>34.5</td>\n",
       "      <td>0</td>\n",
       "      <td>0</td>\n",
       "      <td>7.8292</td>\n",
       "      <td>Q</td>\n",
       "      <td>0</td>\n",
       "      <td>0</td>\n",
       "    </tr>\n",
       "    <tr>\n",
       "      <th>893</th>\n",
       "      <td>3</td>\n",
       "      <td>female</td>\n",
       "      <td>47.0</td>\n",
       "      <td>1</td>\n",
       "      <td>0</td>\n",
       "      <td>7.0000</td>\n",
       "      <td>S</td>\n",
       "      <td>1</td>\n",
       "      <td>0</td>\n",
       "    </tr>\n",
       "    <tr>\n",
       "      <th>894</th>\n",
       "      <td>2</td>\n",
       "      <td>male</td>\n",
       "      <td>62.0</td>\n",
       "      <td>0</td>\n",
       "      <td>0</td>\n",
       "      <td>9.6875</td>\n",
       "      <td>Q</td>\n",
       "      <td>0</td>\n",
       "      <td>0</td>\n",
       "    </tr>\n",
       "    <tr>\n",
       "      <th>895</th>\n",
       "      <td>3</td>\n",
       "      <td>male</td>\n",
       "      <td>27.0</td>\n",
       "      <td>0</td>\n",
       "      <td>0</td>\n",
       "      <td>8.6625</td>\n",
       "      <td>S</td>\n",
       "      <td>0</td>\n",
       "      <td>0</td>\n",
       "    </tr>\n",
       "    <tr>\n",
       "      <th>896</th>\n",
       "      <td>3</td>\n",
       "      <td>female</td>\n",
       "      <td>22.0</td>\n",
       "      <td>1</td>\n",
       "      <td>1</td>\n",
       "      <td>12.2875</td>\n",
       "      <td>S</td>\n",
       "      <td>1</td>\n",
       "      <td>1</td>\n",
       "    </tr>\n",
       "  </tbody>\n",
       "</table>\n",
       "</div>"
      ],
      "text/plain": [
       "             Pclass     Sex   Age  SibSp  Parch     Fare Embarked  \\\n",
       "PassengerId                                                         \n",
       "892               3    male  34.5      0      0   7.8292        Q   \n",
       "893               3  female  47.0      1      0   7.0000        S   \n",
       "894               2    male  62.0      0      0   9.6875        Q   \n",
       "895               3    male  27.0      0      0   8.6625        S   \n",
       "896               3  female  22.0      1      1  12.2875        S   \n",
       "\n",
       "             SibSpAboard  ParChAboard  \n",
       "PassengerId                            \n",
       "892                    0            0  \n",
       "893                    1            0  \n",
       "894                    0            0  \n",
       "895                    0            0  \n",
       "896                    1            1  "
      ]
     },
     "execution_count": 3,
     "metadata": {},
     "output_type": "execute_result"
    }
   ],
   "source": [
    "test_df = pd.read_csv('data/clean_titanic_test.csv', index_col='PassengerId')\n",
    "test_df.head()"
   ]
  },
  {
   "cell_type": "markdown",
   "metadata": {
    "papermill": {
     "duration": 0.015073,
     "end_time": "2022-06-30T21:38:53.883639",
     "exception": false,
     "start_time": "2022-06-30T21:38:53.868566",
     "status": "completed"
    },
    "tags": []
   },
   "source": [
    "We need to adapt the data to the kind of data our model (a Decision Tree) needs. Specifically, we need to convert categorical data (the \"Sex\" and \"Embarked\" features) to numerical data."
   ]
  },
  {
   "cell_type": "code",
   "execution_count": 4,
   "metadata": {
    "execution": {
     "iopub.execute_input": "2022-06-30T21:38:53.916297Z",
     "iopub.status.busy": "2022-06-30T21:38:53.915733Z",
     "iopub.status.idle": "2022-06-30T21:38:53.932673Z",
     "shell.execute_reply": "2022-06-30T21:38:53.931521Z"
    },
    "papermill": {
     "duration": 0.03633,
     "end_time": "2022-06-30T21:38:53.935325",
     "exception": false,
     "start_time": "2022-06-30T21:38:53.898995",
     "status": "completed"
    },
    "tags": []
   },
   "outputs": [
    {
     "name": "stdout",
     "output_type": "stream",
     "text": [
      "<class 'pandas.core.frame.DataFrame'>\n",
      "Int64Index: 891 entries, 1 to 891\n",
      "Data columns (total 10 columns):\n",
      " #   Column       Non-Null Count  Dtype  \n",
      "---  ------       --------------  -----  \n",
      " 0   Survived     891 non-null    int64  \n",
      " 1   Pclass       891 non-null    int64  \n",
      " 2   Sex          891 non-null    object \n",
      " 3   Age          891 non-null    float64\n",
      " 4   SibSp        891 non-null    int64  \n",
      " 5   Parch        891 non-null    int64  \n",
      " 6   Fare         891 non-null    float64\n",
      " 7   Embarked     891 non-null    object \n",
      " 8   SibSpAboard  891 non-null    int64  \n",
      " 9   ParChAboard  891 non-null    int64  \n",
      "dtypes: float64(2), int64(6), object(2)\n",
      "memory usage: 76.6+ KB\n"
     ]
    }
   ],
   "source": [
    "train_df.info()"
   ]
  },
  {
   "cell_type": "code",
   "execution_count": 5,
   "metadata": {
    "execution": {
     "iopub.execute_input": "2022-06-30T21:38:53.957150Z",
     "iopub.status.busy": "2022-06-30T21:38:53.956557Z",
     "iopub.status.idle": "2022-06-30T21:38:53.968417Z",
     "shell.execute_reply": "2022-06-30T21:38:53.966879Z"
    },
    "papermill": {
     "duration": 0.025133,
     "end_time": "2022-06-30T21:38:53.970674",
     "exception": false,
     "start_time": "2022-06-30T21:38:53.945541",
     "status": "completed"
    },
    "tags": []
   },
   "outputs": [
    {
     "name": "stdout",
     "output_type": "stream",
     "text": [
      "<class 'pandas.core.frame.DataFrame'>\n",
      "Int64Index: 418 entries, 892 to 1309\n",
      "Data columns (total 9 columns):\n",
      " #   Column       Non-Null Count  Dtype  \n",
      "---  ------       --------------  -----  \n",
      " 0   Pclass       418 non-null    int64  \n",
      " 1   Sex          418 non-null    object \n",
      " 2   Age          418 non-null    float64\n",
      " 3   SibSp        418 non-null    int64  \n",
      " 4   Parch        418 non-null    int64  \n",
      " 5   Fare         418 non-null    float64\n",
      " 6   Embarked     418 non-null    object \n",
      " 7   SibSpAboard  418 non-null    int64  \n",
      " 8   ParChAboard  418 non-null    int64  \n",
      "dtypes: float64(2), int64(5), object(2)\n",
      "memory usage: 32.7+ KB\n"
     ]
    }
   ],
   "source": [
    "test_df.info()"
   ]
  },
  {
   "cell_type": "code",
   "execution_count": 6,
   "metadata": {
    "execution": {
     "iopub.execute_input": "2022-06-30T21:38:53.992145Z",
     "iopub.status.busy": "2022-06-30T21:38:53.991754Z",
     "iopub.status.idle": "2022-06-30T21:38:54.013617Z",
     "shell.execute_reply": "2022-06-30T21:38:54.012615Z"
    },
    "papermill": {
     "duration": 0.035285,
     "end_time": "2022-06-30T21:38:54.016063",
     "exception": false,
     "start_time": "2022-06-30T21:38:53.980778",
     "status": "completed"
    },
    "tags": []
   },
   "outputs": [
    {
     "data": {
      "text/html": [
       "<div>\n",
       "<style scoped>\n",
       "    .dataframe tbody tr th:only-of-type {\n",
       "        vertical-align: middle;\n",
       "    }\n",
       "\n",
       "    .dataframe tbody tr th {\n",
       "        vertical-align: top;\n",
       "    }\n",
       "\n",
       "    .dataframe thead th {\n",
       "        text-align: right;\n",
       "    }\n",
       "</style>\n",
       "<table border=\"1\" class=\"dataframe\">\n",
       "  <thead>\n",
       "    <tr style=\"text-align: right;\">\n",
       "      <th></th>\n",
       "      <th>Survived</th>\n",
       "      <th>Pclass</th>\n",
       "      <th>Sex</th>\n",
       "      <th>Age</th>\n",
       "      <th>SibSp</th>\n",
       "      <th>Parch</th>\n",
       "      <th>Fare</th>\n",
       "      <th>Embarked</th>\n",
       "      <th>SibSpAboard</th>\n",
       "      <th>ParChAboard</th>\n",
       "      <th>SexMale</th>\n",
       "      <th>SexFemale</th>\n",
       "    </tr>\n",
       "    <tr>\n",
       "      <th>PassengerId</th>\n",
       "      <th></th>\n",
       "      <th></th>\n",
       "      <th></th>\n",
       "      <th></th>\n",
       "      <th></th>\n",
       "      <th></th>\n",
       "      <th></th>\n",
       "      <th></th>\n",
       "      <th></th>\n",
       "      <th></th>\n",
       "      <th></th>\n",
       "      <th></th>\n",
       "    </tr>\n",
       "  </thead>\n",
       "  <tbody>\n",
       "    <tr>\n",
       "      <th>1</th>\n",
       "      <td>0</td>\n",
       "      <td>3</td>\n",
       "      <td>male</td>\n",
       "      <td>22.0</td>\n",
       "      <td>1</td>\n",
       "      <td>0</td>\n",
       "      <td>7.2500</td>\n",
       "      <td>S</td>\n",
       "      <td>1</td>\n",
       "      <td>0</td>\n",
       "      <td>1</td>\n",
       "      <td>0</td>\n",
       "    </tr>\n",
       "    <tr>\n",
       "      <th>2</th>\n",
       "      <td>1</td>\n",
       "      <td>1</td>\n",
       "      <td>female</td>\n",
       "      <td>38.0</td>\n",
       "      <td>1</td>\n",
       "      <td>0</td>\n",
       "      <td>71.2833</td>\n",
       "      <td>C</td>\n",
       "      <td>1</td>\n",
       "      <td>0</td>\n",
       "      <td>0</td>\n",
       "      <td>1</td>\n",
       "    </tr>\n",
       "    <tr>\n",
       "      <th>3</th>\n",
       "      <td>1</td>\n",
       "      <td>3</td>\n",
       "      <td>female</td>\n",
       "      <td>26.0</td>\n",
       "      <td>0</td>\n",
       "      <td>0</td>\n",
       "      <td>7.9250</td>\n",
       "      <td>S</td>\n",
       "      <td>0</td>\n",
       "      <td>0</td>\n",
       "      <td>0</td>\n",
       "      <td>1</td>\n",
       "    </tr>\n",
       "    <tr>\n",
       "      <th>4</th>\n",
       "      <td>1</td>\n",
       "      <td>1</td>\n",
       "      <td>female</td>\n",
       "      <td>35.0</td>\n",
       "      <td>1</td>\n",
       "      <td>0</td>\n",
       "      <td>53.1000</td>\n",
       "      <td>S</td>\n",
       "      <td>1</td>\n",
       "      <td>0</td>\n",
       "      <td>0</td>\n",
       "      <td>1</td>\n",
       "    </tr>\n",
       "    <tr>\n",
       "      <th>5</th>\n",
       "      <td>0</td>\n",
       "      <td>3</td>\n",
       "      <td>male</td>\n",
       "      <td>35.0</td>\n",
       "      <td>0</td>\n",
       "      <td>0</td>\n",
       "      <td>8.0500</td>\n",
       "      <td>S</td>\n",
       "      <td>0</td>\n",
       "      <td>0</td>\n",
       "      <td>1</td>\n",
       "      <td>0</td>\n",
       "    </tr>\n",
       "  </tbody>\n",
       "</table>\n",
       "</div>"
      ],
      "text/plain": [
       "             Survived  Pclass     Sex   Age  SibSp  Parch     Fare Embarked  \\\n",
       "PassengerId                                                                   \n",
       "1                   0       3    male  22.0      1      0   7.2500        S   \n",
       "2                   1       1  female  38.0      1      0  71.2833        C   \n",
       "3                   1       3  female  26.0      0      0   7.9250        S   \n",
       "4                   1       1  female  35.0      1      0  53.1000        S   \n",
       "5                   0       3    male  35.0      0      0   8.0500        S   \n",
       "\n",
       "             SibSpAboard  ParChAboard  SexMale  SexFemale  \n",
       "PassengerId                                                \n",
       "1                      1            0        1          0  \n",
       "2                      1            0        0          1  \n",
       "3                      0            0        0          1  \n",
       "4                      1            0        0          1  \n",
       "5                      0            0        1          0  "
      ]
     },
     "execution_count": 6,
     "metadata": {},
     "output_type": "execute_result"
    }
   ],
   "source": [
    "train_df['SexMale'] = train_df['Sex'].apply(lambda x: 1 if x=='male' else 0)\n",
    "train_df['SexFemale'] = train_df['Sex'].apply(lambda x: 1 if x=='female' else 0)\n",
    "train_df.head()"
   ]
  },
  {
   "cell_type": "code",
   "execution_count": 7,
   "metadata": {
    "execution": {
     "iopub.execute_input": "2022-06-30T21:38:54.050654Z",
     "iopub.status.busy": "2022-06-30T21:38:54.049986Z",
     "iopub.status.idle": "2022-06-30T21:38:54.064232Z",
     "shell.execute_reply": "2022-06-30T21:38:54.063645Z"
    },
    "papermill": {
     "duration": 0.034038,
     "end_time": "2022-06-30T21:38:54.066709",
     "exception": false,
     "start_time": "2022-06-30T21:38:54.032671",
     "status": "completed"
    },
    "tags": []
   },
   "outputs": [
    {
     "data": {
      "text/html": [
       "<div>\n",
       "<style scoped>\n",
       "    .dataframe tbody tr th:only-of-type {\n",
       "        vertical-align: middle;\n",
       "    }\n",
       "\n",
       "    .dataframe tbody tr th {\n",
       "        vertical-align: top;\n",
       "    }\n",
       "\n",
       "    .dataframe thead th {\n",
       "        text-align: right;\n",
       "    }\n",
       "</style>\n",
       "<table border=\"1\" class=\"dataframe\">\n",
       "  <thead>\n",
       "    <tr style=\"text-align: right;\">\n",
       "      <th></th>\n",
       "      <th>Pclass</th>\n",
       "      <th>Sex</th>\n",
       "      <th>Age</th>\n",
       "      <th>SibSp</th>\n",
       "      <th>Parch</th>\n",
       "      <th>Fare</th>\n",
       "      <th>Embarked</th>\n",
       "      <th>SibSpAboard</th>\n",
       "      <th>ParChAboard</th>\n",
       "      <th>SexMale</th>\n",
       "      <th>SexFemale</th>\n",
       "    </tr>\n",
       "    <tr>\n",
       "      <th>PassengerId</th>\n",
       "      <th></th>\n",
       "      <th></th>\n",
       "      <th></th>\n",
       "      <th></th>\n",
       "      <th></th>\n",
       "      <th></th>\n",
       "      <th></th>\n",
       "      <th></th>\n",
       "      <th></th>\n",
       "      <th></th>\n",
       "      <th></th>\n",
       "    </tr>\n",
       "  </thead>\n",
       "  <tbody>\n",
       "    <tr>\n",
       "      <th>892</th>\n",
       "      <td>3</td>\n",
       "      <td>male</td>\n",
       "      <td>34.5</td>\n",
       "      <td>0</td>\n",
       "      <td>0</td>\n",
       "      <td>7.8292</td>\n",
       "      <td>Q</td>\n",
       "      <td>0</td>\n",
       "      <td>0</td>\n",
       "      <td>1</td>\n",
       "      <td>0</td>\n",
       "    </tr>\n",
       "    <tr>\n",
       "      <th>893</th>\n",
       "      <td>3</td>\n",
       "      <td>female</td>\n",
       "      <td>47.0</td>\n",
       "      <td>1</td>\n",
       "      <td>0</td>\n",
       "      <td>7.0000</td>\n",
       "      <td>S</td>\n",
       "      <td>1</td>\n",
       "      <td>0</td>\n",
       "      <td>0</td>\n",
       "      <td>1</td>\n",
       "    </tr>\n",
       "    <tr>\n",
       "      <th>894</th>\n",
       "      <td>2</td>\n",
       "      <td>male</td>\n",
       "      <td>62.0</td>\n",
       "      <td>0</td>\n",
       "      <td>0</td>\n",
       "      <td>9.6875</td>\n",
       "      <td>Q</td>\n",
       "      <td>0</td>\n",
       "      <td>0</td>\n",
       "      <td>1</td>\n",
       "      <td>0</td>\n",
       "    </tr>\n",
       "    <tr>\n",
       "      <th>895</th>\n",
       "      <td>3</td>\n",
       "      <td>male</td>\n",
       "      <td>27.0</td>\n",
       "      <td>0</td>\n",
       "      <td>0</td>\n",
       "      <td>8.6625</td>\n",
       "      <td>S</td>\n",
       "      <td>0</td>\n",
       "      <td>0</td>\n",
       "      <td>1</td>\n",
       "      <td>0</td>\n",
       "    </tr>\n",
       "    <tr>\n",
       "      <th>896</th>\n",
       "      <td>3</td>\n",
       "      <td>female</td>\n",
       "      <td>22.0</td>\n",
       "      <td>1</td>\n",
       "      <td>1</td>\n",
       "      <td>12.2875</td>\n",
       "      <td>S</td>\n",
       "      <td>1</td>\n",
       "      <td>1</td>\n",
       "      <td>0</td>\n",
       "      <td>1</td>\n",
       "    </tr>\n",
       "  </tbody>\n",
       "</table>\n",
       "</div>"
      ],
      "text/plain": [
       "             Pclass     Sex   Age  SibSp  Parch     Fare Embarked  \\\n",
       "PassengerId                                                         \n",
       "892               3    male  34.5      0      0   7.8292        Q   \n",
       "893               3  female  47.0      1      0   7.0000        S   \n",
       "894               2    male  62.0      0      0   9.6875        Q   \n",
       "895               3    male  27.0      0      0   8.6625        S   \n",
       "896               3  female  22.0      1      1  12.2875        S   \n",
       "\n",
       "             SibSpAboard  ParChAboard  SexMale  SexFemale  \n",
       "PassengerId                                                \n",
       "892                    0            0        1          0  \n",
       "893                    1            0        0          1  \n",
       "894                    0            0        1          0  \n",
       "895                    0            0        1          0  \n",
       "896                    1            1        0          1  "
      ]
     },
     "execution_count": 7,
     "metadata": {},
     "output_type": "execute_result"
    }
   ],
   "source": [
    "test_df['SexMale'] = test_df['Sex'].apply(lambda x: 1 if x=='male' else 0)\n",
    "test_df['SexFemale'] = test_df['Sex'].apply(lambda x: 1 if x=='female' else 0)\n",
    "test_df.head()"
   ]
  },
  {
   "cell_type": "code",
   "execution_count": 8,
   "metadata": {
    "execution": {
     "iopub.execute_input": "2022-06-30T21:38:54.103130Z",
     "iopub.status.busy": "2022-06-30T21:38:54.102690Z",
     "iopub.status.idle": "2022-06-30T21:38:54.118532Z",
     "shell.execute_reply": "2022-06-30T21:38:54.117908Z"
    },
    "papermill": {
     "duration": 0.03653,
     "end_time": "2022-06-30T21:38:54.120641",
     "exception": false,
     "start_time": "2022-06-30T21:38:54.084111",
     "status": "completed"
    },
    "tags": []
   },
   "outputs": [
    {
     "data": {
      "text/html": [
       "<div>\n",
       "<style scoped>\n",
       "    .dataframe tbody tr th:only-of-type {\n",
       "        vertical-align: middle;\n",
       "    }\n",
       "\n",
       "    .dataframe tbody tr th {\n",
       "        vertical-align: top;\n",
       "    }\n",
       "\n",
       "    .dataframe thead th {\n",
       "        text-align: right;\n",
       "    }\n",
       "</style>\n",
       "<table border=\"1\" class=\"dataframe\">\n",
       "  <thead>\n",
       "    <tr style=\"text-align: right;\">\n",
       "      <th></th>\n",
       "      <th>Survived</th>\n",
       "      <th>Pclass</th>\n",
       "      <th>Sex</th>\n",
       "      <th>Age</th>\n",
       "      <th>SibSp</th>\n",
       "      <th>Parch</th>\n",
       "      <th>Fare</th>\n",
       "      <th>Embarked</th>\n",
       "      <th>SibSpAboard</th>\n",
       "      <th>ParChAboard</th>\n",
       "      <th>SexMale</th>\n",
       "      <th>SexFemale</th>\n",
       "      <th>EmbarkedS</th>\n",
       "      <th>EmbarkedQ</th>\n",
       "      <th>EmbarkedC</th>\n",
       "    </tr>\n",
       "    <tr>\n",
       "      <th>PassengerId</th>\n",
       "      <th></th>\n",
       "      <th></th>\n",
       "      <th></th>\n",
       "      <th></th>\n",
       "      <th></th>\n",
       "      <th></th>\n",
       "      <th></th>\n",
       "      <th></th>\n",
       "      <th></th>\n",
       "      <th></th>\n",
       "      <th></th>\n",
       "      <th></th>\n",
       "      <th></th>\n",
       "      <th></th>\n",
       "      <th></th>\n",
       "    </tr>\n",
       "  </thead>\n",
       "  <tbody>\n",
       "    <tr>\n",
       "      <th>1</th>\n",
       "      <td>0</td>\n",
       "      <td>3</td>\n",
       "      <td>male</td>\n",
       "      <td>22.0</td>\n",
       "      <td>1</td>\n",
       "      <td>0</td>\n",
       "      <td>7.2500</td>\n",
       "      <td>S</td>\n",
       "      <td>1</td>\n",
       "      <td>0</td>\n",
       "      <td>1</td>\n",
       "      <td>0</td>\n",
       "      <td>1</td>\n",
       "      <td>0</td>\n",
       "      <td>0</td>\n",
       "    </tr>\n",
       "    <tr>\n",
       "      <th>2</th>\n",
       "      <td>1</td>\n",
       "      <td>1</td>\n",
       "      <td>female</td>\n",
       "      <td>38.0</td>\n",
       "      <td>1</td>\n",
       "      <td>0</td>\n",
       "      <td>71.2833</td>\n",
       "      <td>C</td>\n",
       "      <td>1</td>\n",
       "      <td>0</td>\n",
       "      <td>0</td>\n",
       "      <td>1</td>\n",
       "      <td>0</td>\n",
       "      <td>0</td>\n",
       "      <td>1</td>\n",
       "    </tr>\n",
       "    <tr>\n",
       "      <th>3</th>\n",
       "      <td>1</td>\n",
       "      <td>3</td>\n",
       "      <td>female</td>\n",
       "      <td>26.0</td>\n",
       "      <td>0</td>\n",
       "      <td>0</td>\n",
       "      <td>7.9250</td>\n",
       "      <td>S</td>\n",
       "      <td>0</td>\n",
       "      <td>0</td>\n",
       "      <td>0</td>\n",
       "      <td>1</td>\n",
       "      <td>1</td>\n",
       "      <td>0</td>\n",
       "      <td>0</td>\n",
       "    </tr>\n",
       "    <tr>\n",
       "      <th>4</th>\n",
       "      <td>1</td>\n",
       "      <td>1</td>\n",
       "      <td>female</td>\n",
       "      <td>35.0</td>\n",
       "      <td>1</td>\n",
       "      <td>0</td>\n",
       "      <td>53.1000</td>\n",
       "      <td>S</td>\n",
       "      <td>1</td>\n",
       "      <td>0</td>\n",
       "      <td>0</td>\n",
       "      <td>1</td>\n",
       "      <td>1</td>\n",
       "      <td>0</td>\n",
       "      <td>0</td>\n",
       "    </tr>\n",
       "    <tr>\n",
       "      <th>5</th>\n",
       "      <td>0</td>\n",
       "      <td>3</td>\n",
       "      <td>male</td>\n",
       "      <td>35.0</td>\n",
       "      <td>0</td>\n",
       "      <td>0</td>\n",
       "      <td>8.0500</td>\n",
       "      <td>S</td>\n",
       "      <td>0</td>\n",
       "      <td>0</td>\n",
       "      <td>1</td>\n",
       "      <td>0</td>\n",
       "      <td>1</td>\n",
       "      <td>0</td>\n",
       "      <td>0</td>\n",
       "    </tr>\n",
       "  </tbody>\n",
       "</table>\n",
       "</div>"
      ],
      "text/plain": [
       "             Survived  Pclass     Sex   Age  SibSp  Parch     Fare Embarked  \\\n",
       "PassengerId                                                                   \n",
       "1                   0       3    male  22.0      1      0   7.2500        S   \n",
       "2                   1       1  female  38.0      1      0  71.2833        C   \n",
       "3                   1       3  female  26.0      0      0   7.9250        S   \n",
       "4                   1       1  female  35.0      1      0  53.1000        S   \n",
       "5                   0       3    male  35.0      0      0   8.0500        S   \n",
       "\n",
       "             SibSpAboard  ParChAboard  SexMale  SexFemale  EmbarkedS  \\\n",
       "PassengerId                                                            \n",
       "1                      1            0        1          0          1   \n",
       "2                      1            0        0          1          0   \n",
       "3                      0            0        0          1          1   \n",
       "4                      1            0        0          1          1   \n",
       "5                      0            0        1          0          1   \n",
       "\n",
       "             EmbarkedQ  EmbarkedC  \n",
       "PassengerId                        \n",
       "1                    0          0  \n",
       "2                    0          1  \n",
       "3                    0          0  \n",
       "4                    0          0  \n",
       "5                    0          0  "
      ]
     },
     "execution_count": 8,
     "metadata": {},
     "output_type": "execute_result"
    }
   ],
   "source": [
    "train_df['EmbarkedS'] = train_df['Embarked'].apply(lambda x: 1 if x=='S' else 0)\n",
    "train_df['EmbarkedQ'] = train_df['Embarked'].apply(lambda x: 1 if x=='Q' else 0)\n",
    "train_df['EmbarkedC'] = train_df['Embarked'].apply(lambda x: 1 if x=='C' else 0)\n",
    "train_df.head()"
   ]
  },
  {
   "cell_type": "code",
   "execution_count": 9,
   "metadata": {
    "execution": {
     "iopub.execute_input": "2022-06-30T21:38:54.156633Z",
     "iopub.status.busy": "2022-06-30T21:38:54.156006Z",
     "iopub.status.idle": "2022-06-30T21:38:54.171305Z",
     "shell.execute_reply": "2022-06-30T21:38:54.170747Z"
    },
    "papermill": {
     "duration": 0.035197,
     "end_time": "2022-06-30T21:38:54.173093",
     "exception": false,
     "start_time": "2022-06-30T21:38:54.137896",
     "status": "completed"
    },
    "tags": []
   },
   "outputs": [
    {
     "data": {
      "text/html": [
       "<div>\n",
       "<style scoped>\n",
       "    .dataframe tbody tr th:only-of-type {\n",
       "        vertical-align: middle;\n",
       "    }\n",
       "\n",
       "    .dataframe tbody tr th {\n",
       "        vertical-align: top;\n",
       "    }\n",
       "\n",
       "    .dataframe thead th {\n",
       "        text-align: right;\n",
       "    }\n",
       "</style>\n",
       "<table border=\"1\" class=\"dataframe\">\n",
       "  <thead>\n",
       "    <tr style=\"text-align: right;\">\n",
       "      <th></th>\n",
       "      <th>Pclass</th>\n",
       "      <th>Sex</th>\n",
       "      <th>Age</th>\n",
       "      <th>SibSp</th>\n",
       "      <th>Parch</th>\n",
       "      <th>Fare</th>\n",
       "      <th>Embarked</th>\n",
       "      <th>SibSpAboard</th>\n",
       "      <th>ParChAboard</th>\n",
       "      <th>SexMale</th>\n",
       "      <th>SexFemale</th>\n",
       "      <th>EmbarkedS</th>\n",
       "      <th>EmbarkedQ</th>\n",
       "      <th>EmbarkedC</th>\n",
       "    </tr>\n",
       "    <tr>\n",
       "      <th>PassengerId</th>\n",
       "      <th></th>\n",
       "      <th></th>\n",
       "      <th></th>\n",
       "      <th></th>\n",
       "      <th></th>\n",
       "      <th></th>\n",
       "      <th></th>\n",
       "      <th></th>\n",
       "      <th></th>\n",
       "      <th></th>\n",
       "      <th></th>\n",
       "      <th></th>\n",
       "      <th></th>\n",
       "      <th></th>\n",
       "    </tr>\n",
       "  </thead>\n",
       "  <tbody>\n",
       "    <tr>\n",
       "      <th>892</th>\n",
       "      <td>3</td>\n",
       "      <td>male</td>\n",
       "      <td>34.5</td>\n",
       "      <td>0</td>\n",
       "      <td>0</td>\n",
       "      <td>7.8292</td>\n",
       "      <td>Q</td>\n",
       "      <td>0</td>\n",
       "      <td>0</td>\n",
       "      <td>1</td>\n",
       "      <td>0</td>\n",
       "      <td>0</td>\n",
       "      <td>1</td>\n",
       "      <td>0</td>\n",
       "    </tr>\n",
       "    <tr>\n",
       "      <th>893</th>\n",
       "      <td>3</td>\n",
       "      <td>female</td>\n",
       "      <td>47.0</td>\n",
       "      <td>1</td>\n",
       "      <td>0</td>\n",
       "      <td>7.0000</td>\n",
       "      <td>S</td>\n",
       "      <td>1</td>\n",
       "      <td>0</td>\n",
       "      <td>0</td>\n",
       "      <td>1</td>\n",
       "      <td>1</td>\n",
       "      <td>0</td>\n",
       "      <td>0</td>\n",
       "    </tr>\n",
       "    <tr>\n",
       "      <th>894</th>\n",
       "      <td>2</td>\n",
       "      <td>male</td>\n",
       "      <td>62.0</td>\n",
       "      <td>0</td>\n",
       "      <td>0</td>\n",
       "      <td>9.6875</td>\n",
       "      <td>Q</td>\n",
       "      <td>0</td>\n",
       "      <td>0</td>\n",
       "      <td>1</td>\n",
       "      <td>0</td>\n",
       "      <td>0</td>\n",
       "      <td>1</td>\n",
       "      <td>0</td>\n",
       "    </tr>\n",
       "    <tr>\n",
       "      <th>895</th>\n",
       "      <td>3</td>\n",
       "      <td>male</td>\n",
       "      <td>27.0</td>\n",
       "      <td>0</td>\n",
       "      <td>0</td>\n",
       "      <td>8.6625</td>\n",
       "      <td>S</td>\n",
       "      <td>0</td>\n",
       "      <td>0</td>\n",
       "      <td>1</td>\n",
       "      <td>0</td>\n",
       "      <td>1</td>\n",
       "      <td>0</td>\n",
       "      <td>0</td>\n",
       "    </tr>\n",
       "    <tr>\n",
       "      <th>896</th>\n",
       "      <td>3</td>\n",
       "      <td>female</td>\n",
       "      <td>22.0</td>\n",
       "      <td>1</td>\n",
       "      <td>1</td>\n",
       "      <td>12.2875</td>\n",
       "      <td>S</td>\n",
       "      <td>1</td>\n",
       "      <td>1</td>\n",
       "      <td>0</td>\n",
       "      <td>1</td>\n",
       "      <td>1</td>\n",
       "      <td>0</td>\n",
       "      <td>0</td>\n",
       "    </tr>\n",
       "  </tbody>\n",
       "</table>\n",
       "</div>"
      ],
      "text/plain": [
       "             Pclass     Sex   Age  SibSp  Parch     Fare Embarked  \\\n",
       "PassengerId                                                         \n",
       "892               3    male  34.5      0      0   7.8292        Q   \n",
       "893               3  female  47.0      1      0   7.0000        S   \n",
       "894               2    male  62.0      0      0   9.6875        Q   \n",
       "895               3    male  27.0      0      0   8.6625        S   \n",
       "896               3  female  22.0      1      1  12.2875        S   \n",
       "\n",
       "             SibSpAboard  ParChAboard  SexMale  SexFemale  EmbarkedS  \\\n",
       "PassengerId                                                            \n",
       "892                    0            0        1          0          0   \n",
       "893                    1            0        0          1          1   \n",
       "894                    0            0        1          0          0   \n",
       "895                    0            0        1          0          1   \n",
       "896                    1            1        0          1          1   \n",
       "\n",
       "             EmbarkedQ  EmbarkedC  \n",
       "PassengerId                        \n",
       "892                  1          0  \n",
       "893                  0          0  \n",
       "894                  1          0  \n",
       "895                  0          0  \n",
       "896                  0          0  "
      ]
     },
     "execution_count": 9,
     "metadata": {},
     "output_type": "execute_result"
    }
   ],
   "source": [
    "test_df['EmbarkedS'] = test_df['Embarked'].apply(lambda x: 1 if x=='S' else 0)\n",
    "test_df['EmbarkedQ'] = test_df['Embarked'].apply(lambda x: 1 if x=='Q' else 0)\n",
    "test_df['EmbarkedC'] = test_df['Embarked'].apply(lambda x: 1 if x=='C' else 0)\n",
    "test_df.head()"
   ]
  },
  {
   "cell_type": "code",
   "execution_count": 10,
   "metadata": {
    "execution": {
     "iopub.execute_input": "2022-06-30T21:38:54.209927Z",
     "iopub.status.busy": "2022-06-30T21:38:54.209268Z",
     "iopub.status.idle": "2022-06-30T21:38:54.216174Z",
     "shell.execute_reply": "2022-06-30T21:38:54.215654Z"
    },
    "papermill": {
     "duration": 0.027471,
     "end_time": "2022-06-30T21:38:54.218393",
     "exception": false,
     "start_time": "2022-06-30T21:38:54.190922",
     "status": "completed"
    },
    "tags": []
   },
   "outputs": [],
   "source": [
    "train_df.drop(columns=['Sex','Embarked'],inplace=True)\n",
    "test_df.drop(columns=['Sex','Embarked'],inplace=True)"
   ]
  },
  {
   "cell_type": "code",
   "execution_count": 11,
   "metadata": {
    "execution": {
     "iopub.execute_input": "2022-06-30T21:38:54.256052Z",
     "iopub.status.busy": "2022-06-30T21:38:54.255459Z",
     "iopub.status.idle": "2022-06-30T21:38:54.265597Z",
     "shell.execute_reply": "2022-06-30T21:38:54.264655Z"
    },
    "papermill": {
     "duration": 0.031312,
     "end_time": "2022-06-30T21:38:54.267237",
     "exception": false,
     "start_time": "2022-06-30T21:38:54.235925",
     "status": "completed"
    },
    "tags": []
   },
   "outputs": [
    {
     "name": "stdout",
     "output_type": "stream",
     "text": [
      "<class 'pandas.core.frame.DataFrame'>\n",
      "Int64Index: 891 entries, 1 to 891\n",
      "Data columns (total 13 columns):\n",
      " #   Column       Non-Null Count  Dtype  \n",
      "---  ------       --------------  -----  \n",
      " 0   Survived     891 non-null    int64  \n",
      " 1   Pclass       891 non-null    int64  \n",
      " 2   Age          891 non-null    float64\n",
      " 3   SibSp        891 non-null    int64  \n",
      " 4   Parch        891 non-null    int64  \n",
      " 5   Fare         891 non-null    float64\n",
      " 6   SibSpAboard  891 non-null    int64  \n",
      " 7   ParChAboard  891 non-null    int64  \n",
      " 8   SexMale      891 non-null    int64  \n",
      " 9   SexFemale    891 non-null    int64  \n",
      " 10  EmbarkedS    891 non-null    int64  \n",
      " 11  EmbarkedQ    891 non-null    int64  \n",
      " 12  EmbarkedC    891 non-null    int64  \n",
      "dtypes: float64(2), int64(11)\n",
      "memory usage: 97.5 KB\n"
     ]
    }
   ],
   "source": [
    "train_df.info()"
   ]
  },
  {
   "cell_type": "code",
   "execution_count": 12,
   "metadata": {
    "execution": {
     "iopub.execute_input": "2022-06-30T21:38:54.290999Z",
     "iopub.status.busy": "2022-06-30T21:38:54.290236Z",
     "iopub.status.idle": "2022-06-30T21:38:54.303387Z",
     "shell.execute_reply": "2022-06-30T21:38:54.301796Z"
    },
    "papermill": {
     "duration": 0.02696,
     "end_time": "2022-06-30T21:38:54.305183",
     "exception": false,
     "start_time": "2022-06-30T21:38:54.278223",
     "status": "completed"
    },
    "tags": []
   },
   "outputs": [
    {
     "name": "stdout",
     "output_type": "stream",
     "text": [
      "<class 'pandas.core.frame.DataFrame'>\n",
      "Int64Index: 418 entries, 892 to 1309\n",
      "Data columns (total 12 columns):\n",
      " #   Column       Non-Null Count  Dtype  \n",
      "---  ------       --------------  -----  \n",
      " 0   Pclass       418 non-null    int64  \n",
      " 1   Age          418 non-null    float64\n",
      " 2   SibSp        418 non-null    int64  \n",
      " 3   Parch        418 non-null    int64  \n",
      " 4   Fare         418 non-null    float64\n",
      " 5   SibSpAboard  418 non-null    int64  \n",
      " 6   ParChAboard  418 non-null    int64  \n",
      " 7   SexMale      418 non-null    int64  \n",
      " 8   SexFemale    418 non-null    int64  \n",
      " 9   EmbarkedS    418 non-null    int64  \n",
      " 10  EmbarkedQ    418 non-null    int64  \n",
      " 11  EmbarkedC    418 non-null    int64  \n",
      "dtypes: float64(2), int64(10)\n",
      "memory usage: 42.5 KB\n"
     ]
    }
   ],
   "source": [
    "test_df.info()"
   ]
  },
  {
   "cell_type": "markdown",
   "metadata": {
    "papermill": {
     "duration": 0.011123,
     "end_time": "2022-06-30T21:38:54.327304",
     "exception": false,
     "start_time": "2022-06-30T21:38:54.316181",
     "status": "completed"
    },
    "tags": []
   },
   "source": [
    "Now all the features are numerical."
   ]
  },
  {
   "cell_type": "markdown",
   "metadata": {
    "papermill": {
     "duration": 0.010802,
     "end_time": "2022-06-30T21:38:54.349372",
     "exception": false,
     "start_time": "2022-06-30T21:38:54.338570",
     "status": "completed"
    },
    "tags": []
   },
   "source": [
    "## 2. Building the Decision Tree <a name='building'/>"
   ]
  },
  {
   "cell_type": "markdown",
   "metadata": {
    "papermill": {
     "duration": 0.010887,
     "end_time": "2022-06-30T21:38:54.371591",
     "exception": false,
     "start_time": "2022-06-30T21:38:54.360704",
     "status": "completed"
    },
    "tags": []
   },
   "source": [
    "We will split the training dataset and allocate 80% to training the model and 20% to validating it."
   ]
  },
  {
   "cell_type": "markdown",
   "metadata": {
    "papermill": {
     "duration": 0.011131,
     "end_time": "2022-06-30T21:38:54.394218",
     "exception": false,
     "start_time": "2022-06-30T21:38:54.383087",
     "status": "completed"
    },
    "tags": []
   },
   "source": [
    "Let's first build the tree using all the features available in the dataset."
   ]
  },
  {
   "cell_type": "code",
   "execution_count": 13,
   "metadata": {
    "execution": {
     "iopub.execute_input": "2022-06-30T21:38:54.418910Z",
     "iopub.status.busy": "2022-06-30T21:38:54.418545Z",
     "iopub.status.idle": "2022-06-30T21:38:55.536121Z",
     "shell.execute_reply": "2022-06-30T21:38:55.535118Z"
    },
    "papermill": {
     "duration": 1.132,
     "end_time": "2022-06-30T21:38:55.538036",
     "exception": false,
     "start_time": "2022-06-30T21:38:54.406036",
     "status": "completed"
    },
    "tags": []
   },
   "outputs": [
    {
     "data": {
      "text/plain": [
       "0.8044692737430168"
      ]
     },
     "execution_count": 13,
     "metadata": {},
     "output_type": "execute_result"
    }
   ],
   "source": [
    "from sklearn.model_selection import train_test_split\n",
    "from sklearn.tree import DecisionTreeClassifier\n",
    "from sklearn.metrics import accuracy_score\n",
    "\n",
    "target = train_df['Survived']\n",
    "train = train_df[\n",
    "    ['Pclass','Age','SibSp','Parch','Fare','SibSpAboard','ParChAboard',\n",
    "     'SexMale','SexFemale','EmbarkedS','EmbarkedQ','EmbarkedC']\n",
    "]\n",
    "\n",
    "x_train, x_validation, y_train, y_validation = train_test_split(\n",
    "    train, target, test_size=0.2, random_state=17\n",
    ")\n",
    "\n",
    "tree = DecisionTreeClassifier(max_depth=5, random_state=17)\n",
    "tree.fit(x_train, y_train)\n",
    "\n",
    "tree_prediction = tree.predict(x_validation)\n",
    "accuracy_score(y_validation, tree_prediction)"
   ]
  },
  {
   "cell_type": "markdown",
   "metadata": {
    "execution": {
     "iopub.execute_input": "2022-06-30T19:07:13.229677Z",
     "iopub.status.busy": "2022-06-30T19:07:13.228866Z",
     "iopub.status.idle": "2022-06-30T19:07:13.240497Z",
     "shell.execute_reply": "2022-06-30T19:07:13.239395Z",
     "shell.execute_reply.started": "2022-06-30T19:07:13.229630Z"
    },
    "papermill": {
     "duration": 0.010547,
     "end_time": "2022-06-30T21:38:55.559604",
     "exception": false,
     "start_time": "2022-06-30T21:38:55.549057",
     "status": "completed"
    },
    "tags": []
   },
   "source": [
    "In the <a href='./titanic-exploratory-data-analysis.ipynb'>EDA notebook</a>, we engineered the features \"SibSpAboard\" and \"ParChAboard\", which are boolean features that are given 1 if the passenger had siblings or spouses aboard, and parents or children aboard, respectively, and 0 otherwise.\n",
    "\n",
    "Let's build two separate trees: one considering the initial features \"SibSp\" and \"Parch\" (number of siblings and spouses aboard, and number of parents and children aboard, respectively), and the other one considering \"SibSpAboard\" and \"ParChAboard\", and see which one performs better. Note that we fix a random state, so that randomness does not influence the difference in the performance of both trees."
   ]
  },
  {
   "cell_type": "code",
   "execution_count": 14,
   "metadata": {
    "execution": {
     "iopub.execute_input": "2022-06-30T21:38:55.583233Z",
     "iopub.status.busy": "2022-06-30T21:38:55.582388Z",
     "iopub.status.idle": "2022-06-30T21:38:55.599375Z",
     "shell.execute_reply": "2022-06-30T21:38:55.598229Z"
    },
    "papermill": {
     "duration": 0.030842,
     "end_time": "2022-06-30T21:38:55.601112",
     "exception": false,
     "start_time": "2022-06-30T21:38:55.570270",
     "status": "completed"
    },
    "tags": []
   },
   "outputs": [
    {
     "data": {
      "text/plain": [
       "0.8044692737430168"
      ]
     },
     "execution_count": 14,
     "metadata": {},
     "output_type": "execute_result"
    }
   ],
   "source": [
    "target = train_df['Survived']\n",
    "train = train_df[\n",
    "    ['Pclass','Age','SibSp','Parch','Fare',\n",
    "     'SexMale','SexFemale','EmbarkedS','EmbarkedQ','EmbarkedC']\n",
    "]\n",
    "\n",
    "x_train, x_validation, y_train, y_validation = train_test_split(\n",
    "    train, target, test_size=0.2, random_state=17\n",
    ")\n",
    "\n",
    "tree_original_features = DecisionTreeClassifier(max_depth=5, random_state=17)\n",
    "tree_original_features.fit(x_train, y_train)\n",
    "\n",
    "tree_original_features_prediction = tree_original_features.predict(x_validation)\n",
    "accuracy_score(y_validation, tree_original_features_prediction)"
   ]
  },
  {
   "cell_type": "code",
   "execution_count": 15,
   "metadata": {
    "execution": {
     "iopub.execute_input": "2022-06-30T21:38:55.624884Z",
     "iopub.status.busy": "2022-06-30T21:38:55.624500Z",
     "iopub.status.idle": "2022-06-30T21:38:55.641959Z",
     "shell.execute_reply": "2022-06-30T21:38:55.641022Z"
    },
    "papermill": {
     "duration": 0.032221,
     "end_time": "2022-06-30T21:38:55.644629",
     "exception": false,
     "start_time": "2022-06-30T21:38:55.612408",
     "status": "completed"
    },
    "tags": []
   },
   "outputs": [
    {
     "data": {
      "text/plain": [
       "0.7988826815642458"
      ]
     },
     "execution_count": 15,
     "metadata": {},
     "output_type": "execute_result"
    }
   ],
   "source": [
    "target = train_df['Survived']\n",
    "train = train_df[\n",
    "    ['Pclass','Age','Fare','SibSpAboard','ParChAboard',\n",
    "     'SexMale','SexFemale','EmbarkedS','EmbarkedQ','EmbarkedC']\n",
    "]\n",
    "\n",
    "x_train, x_validation, y_train, y_validation = train_test_split(\n",
    "    train, target, test_size=0.2, random_state=17\n",
    ")\n",
    "\n",
    "tree_engineered_features = DecisionTreeClassifier(max_depth=5, random_state=17)\n",
    "tree_engineered_features.fit(x_train, y_train)\n",
    "\n",
    "tree_engineered_features_prediction = tree_engineered_features.predict(x_validation)\n",
    "accuracy_score(y_validation, tree_engineered_features_prediction)"
   ]
  },
  {
   "cell_type": "markdown",
   "metadata": {
    "papermill": {
     "duration": 0.017975,
     "end_time": "2022-06-30T21:38:55.680945",
     "exception": false,
     "start_time": "2022-06-30T21:38:55.662970",
     "status": "completed"
    },
    "tags": []
   },
   "source": [
    "Though the difference in the performance is not too big (a 0.56% of differency in accuracy), the tree trained with the original \"SibSp\" and \"Parch\" features performs better on the validation set.\n",
    "\n",
    "Let's now visualize both trees."
   ]
  },
  {
   "cell_type": "code",
   "execution_count": 16,
   "metadata": {
    "execution": {
     "iopub.execute_input": "2022-06-30T21:38:55.718983Z",
     "iopub.status.busy": "2022-06-30T21:38:55.718461Z",
     "iopub.status.idle": "2022-06-30T21:38:55.833592Z",
     "shell.execute_reply": "2022-06-30T21:38:55.831821Z"
    },
    "papermill": {
     "duration": 0.136417,
     "end_time": "2022-06-30T21:38:55.835540",
     "exception": true,
     "start_time": "2022-06-30T21:38:55.699123",
     "status": "failed"
    },
    "tags": []
   },
   "outputs": [],
   "source": [
    "import pydotplus  # !pip install pydotplus\n",
    "from sklearn.tree import export_graphviz\n",
    "\n",
    "def tree_graph_to_png(tree, feature_names, png_file_to_save):\n",
    "    tree_str = export_graphviz(\n",
    "        tree, feature_names=feature_names, filled=True, out_file=None\n",
    "    )\n",
    "    graph = pydotplus.graph_from_dot_data(tree_str)\n",
    "    graph.write_png(png_file_to_save)"
   ]
  },
  {
   "cell_type": "code",
   "execution_count": 17,
   "metadata": {
    "execution": {
     "iopub.execute_input": "2022-06-30T21:16:25.531043Z",
     "iopub.status.busy": "2022-06-30T21:16:25.530605Z",
     "iopub.status.idle": "2022-06-30T21:16:26.094327Z",
     "shell.execute_reply": "2022-06-30T21:16:26.092907Z",
     "shell.execute_reply.started": "2022-06-30T21:16:25.531009Z"
    },
    "papermill": {
     "duration": null,
     "end_time": null,
     "exception": null,
     "start_time": null,
     "status": "pending"
    },
    "tags": []
   },
   "outputs": [],
   "source": [
    "# Tree trained with the original \"SibSp\" and \"Parch\" features\n",
    "tree_graph_to_png(\n",
    "    tree=tree_original_features,\n",
    "    feature_names=['Pclass','Age','SibSp','Parch','Fare',\n",
    "         'SexMale','SexFemale','EmbarkedS','EmbarkedQ','EmbarkedC'],\n",
    "    png_file_to_save='img/tree_original_features.png'\n",
    ")"
   ]
  },
  {
   "cell_type": "code",
   "execution_count": 18,
   "metadata": {
    "execution": {
     "iopub.execute_input": "2022-06-30T21:16:26.097383Z",
     "iopub.status.busy": "2022-06-30T21:16:26.096985Z",
     "iopub.status.idle": "2022-06-30T21:16:26.714726Z",
     "shell.execute_reply": "2022-06-30T21:16:26.713445Z",
     "shell.execute_reply.started": "2022-06-30T21:16:26.097339Z"
    },
    "papermill": {
     "duration": null,
     "end_time": null,
     "exception": null,
     "start_time": null,
     "status": "pending"
    },
    "tags": []
   },
   "outputs": [],
   "source": [
    "# Tree trained with the engineered \"SibSpAboard\" and \"ParChAboard\" features\n",
    "tree_graph_to_png(\n",
    "    tree=tree_engineered_features,\n",
    "    feature_names=['Pclass','Age','Fare','SibSpAboard','ParChAboard',\n",
    "         'SexMale','SexFemale','EmbarkedS','EmbarkedQ','EmbarkedC'],\n",
    "    png_file_to_save='img/tree_engineered_features.png'\n",
    ")"
   ]
  },
  {
   "cell_type": "markdown",
   "metadata": {
    "papermill": {
     "duration": null,
     "end_time": null,
     "exception": null,
     "start_time": null,
     "status": "pending"
    },
    "tags": []
   },
   "source": [
    "The tree trained with the original \"SibSp\" and \"Parch\" features is the following:\n",
    "![tree_original_features.png](./img/tree_original_features.png)"
   ]
  },
  {
   "cell_type": "markdown",
   "metadata": {
    "papermill": {
     "duration": null,
     "end_time": null,
     "exception": null,
     "start_time": null,
     "status": "pending"
    },
    "tags": []
   },
   "source": [
    "The tree trained with the engineered \"SibSpAboard\" and \"ParChAboard\" features is the following:\n",
    "![tree_engineered_features.png](./img/tree_engineered_features.png)"
   ]
  },
  {
   "cell_type": "markdown",
   "metadata": {
    "papermill": {
     "duration": null,
     "end_time": null,
     "exception": null,
     "start_time": null,
     "status": "pending"
    },
    "tags": []
   },
   "source": [
    "We note that the first feature the tree splits on is the \"Sex\" feature (here represented with the numerical boolean feature \"SexFemale\"). In the <a href='./titanic-exploratory-data-analysis.ipynb'>EDA performed on the Titanic dataset</a>, I saw that this feature is the one that influenced the most the chances of survival: the proportion of survivors among female passengers was of 74.20%, while among the male passengers it was of 18.89%. Also, we see that the tree gives primary importance to the age and the ticket class of the passenger."
   ]
  },
  {
   "cell_type": "markdown",
   "metadata": {
    "papermill": {
     "duration": null,
     "end_time": null,
     "exception": null,
     "start_time": null,
     "status": "pending"
    },
    "tags": []
   },
   "source": [
    "Since Decision Trees are not computationally expensive (that is, they allow for fast training and forecasting), we can explore some alternative trees, by modifying paramenters, or the training dataset. We will compare their performance to the first tree, `tree_original_features`, which is the one with the best accuracy on the validation set."
   ]
  },
  {
   "cell_type": "markdown",
   "metadata": {
    "papermill": {
     "duration": null,
     "end_time": null,
     "exception": null,
     "start_time": null,
     "status": "pending"
    },
    "tags": []
   },
   "source": [
    "### 2.1. Exploring alternative trees: different criterion for partitioning the tree <a name='alternative_criteria'/>\n",
    "\n",
    "By default, the function used by the `sklearn.tree.DecisionTreeClassifier` class to measure the quality of a split is the Gini uncertainy. For a system with $N$ possible states, the Gini uncertainty (or Gini impurity) is defined as\n",
    "$$\n",
    "G = 1 - \\sum_{k=1}^N (p_k)^2\n",
    "$$\n",
    "where $p_k$ is the probability of the system being in the $k$-th state.\n",
    "\n",
    "An alternative function to measure the quality of a split is Shannon's entropy, defined as\n",
    "$$\n",
    "S = -\\sum_{k=1}^N p_k\\log_2 p_k\n",
    "$$\n",
    "Entropy can be described as the \"degree of chaos (or uncertainty) of a system\". Thus, the lower the entropy, the more \"ordered\" the system is. The reduction in entropy is called the information gain. The algorithm will try to maximize the information gain in every split.\n",
    "\n",
    "The plot of the Shannon's entropy and the plot of two times the Gini uncertainty are very close to each other. Therefore, in practice, both criteria work in a very similar way, so we can expect the performance not to change significantly."
   ]
  },
  {
   "cell_type": "code",
   "execution_count": 19,
   "metadata": {
    "execution": {
     "iopub.execute_input": "2022-06-30T21:16:26.717316Z",
     "iopub.status.busy": "2022-06-30T21:16:26.716463Z",
     "iopub.status.idle": "2022-06-30T21:16:26.742570Z",
     "shell.execute_reply": "2022-06-30T21:16:26.741175Z",
     "shell.execute_reply.started": "2022-06-30T21:16:26.717275Z"
    },
    "papermill": {
     "duration": null,
     "end_time": null,
     "exception": null,
     "start_time": null,
     "status": "pending"
    },
    "tags": []
   },
   "outputs": [
    {
     "data": {
      "text/plain": [
       "0.776536312849162"
      ]
     },
     "execution_count": 19,
     "metadata": {},
     "output_type": "execute_result"
    }
   ],
   "source": [
    "target = train_df['Survived']\n",
    "train = train_df[\n",
    "    ['Pclass','Age','SibSp','Parch','Fare',\n",
    "     'SexMale','SexFemale','EmbarkedS','EmbarkedQ','EmbarkedC']\n",
    "]\n",
    "\n",
    "x_train, x_validation, y_train, y_validation = train_test_split(\n",
    "    train, target, test_size=0.2, random_state=17\n",
    ")\n",
    "\n",
    "tree_entropy = DecisionTreeClassifier(max_depth=5, random_state=17, criterion='entropy')\n",
    "tree_entropy.fit(x_train, y_train)\n",
    "\n",
    "tree_entropy_prediction = tree_entropy.predict(x_validation)\n",
    "accuracy_score(y_validation, tree_entropy_prediction)"
   ]
  },
  {
   "cell_type": "markdown",
   "metadata": {
    "papermill": {
     "duration": null,
     "end_time": null,
     "exception": null,
     "start_time": null,
     "status": "pending"
    },
    "tags": []
   },
   "source": [
    "The performance of the tree is not improved by considering the Shannon's entropy criterion."
   ]
  },
  {
   "cell_type": "markdown",
   "metadata": {
    "papermill": {
     "duration": null,
     "end_time": null,
     "exception": null,
     "start_time": null,
     "status": "pending"
    },
    "tags": []
   },
   "source": [
    "### 2.2. Exploring alternative trees: changing the maximum depth <a name='alternative_depth'/>"
   ]
  },
  {
   "cell_type": "markdown",
   "metadata": {
    "papermill": {
     "duration": null,
     "end_time": null,
     "exception": null,
     "start_time": null,
     "status": "pending"
    },
    "tags": []
   },
   "source": [
    "If we train a tree with less depth, the performance is reduced."
   ]
  },
  {
   "cell_type": "code",
   "execution_count": 20,
   "metadata": {
    "execution": {
     "iopub.execute_input": "2022-06-30T21:16:26.746766Z",
     "iopub.status.busy": "2022-06-30T21:16:26.746238Z",
     "iopub.status.idle": "2022-06-30T21:16:26.775027Z",
     "shell.execute_reply": "2022-06-30T21:16:26.773707Z",
     "shell.execute_reply.started": "2022-06-30T21:16:26.746696Z"
    },
    "papermill": {
     "duration": null,
     "end_time": null,
     "exception": null,
     "start_time": null,
     "status": "pending"
    },
    "tags": []
   },
   "outputs": [
    {
     "name": "stdout",
     "output_type": "stream",
     "text": [
      "Accuracy with max_depth 3: 0.776536312849162\n",
      "Accuracy with max_depth 4: 0.7821229050279329\n"
     ]
    }
   ],
   "source": [
    "# Tree with original feature, less depth\n",
    "\n",
    "target = train_df['Survived']\n",
    "train = train_df[\n",
    "    ['Pclass','Age','SibSp','Parch','Fare',\n",
    "     'SexMale','SexFemale','EmbarkedS','EmbarkedQ','EmbarkedC']\n",
    "]\n",
    "\n",
    "x_train, x_validation, y_train, y_validation = train_test_split(\n",
    "    train, target, test_size=0.2, random_state=17\n",
    ")\n",
    "\n",
    "# Tree with max_depth 3\n",
    "tree_depth3 = DecisionTreeClassifier(max_depth=3, random_state=17)\n",
    "tree_depth3.fit(x_train, y_train)\n",
    "\n",
    "tree_depth3_prediction = tree_depth3.predict(x_validation)\n",
    "\n",
    "# Tree with max_depth 4\n",
    "tree_depth4 = DecisionTreeClassifier(max_depth=4, random_state=17)\n",
    "tree_depth4.fit(x_train, y_train)\n",
    "\n",
    "tree_depth4_prediction = tree_depth4.predict(x_validation)\n",
    "\n",
    "print('Accuracy with max_depth 3:',accuracy_score(y_validation, tree_depth3_prediction))\n",
    "print('Accuracy with max_depth 4:',accuracy_score(y_validation, tree_depth4_prediction))"
   ]
  },
  {
   "cell_type": "markdown",
   "metadata": {
    "papermill": {
     "duration": null,
     "end_time": null,
     "exception": null,
     "start_time": null,
     "status": "pending"
    },
    "tags": []
   },
   "source": [
    "If we train a tree with more depth, the performance is also reduced."
   ]
  },
  {
   "cell_type": "code",
   "execution_count": 21,
   "metadata": {
    "execution": {
     "iopub.execute_input": "2022-06-30T21:16:26.776802Z",
     "iopub.status.busy": "2022-06-30T21:16:26.776471Z",
     "iopub.status.idle": "2022-06-30T21:16:26.808150Z",
     "shell.execute_reply": "2022-06-30T21:16:26.806877Z",
     "shell.execute_reply.started": "2022-06-30T21:16:26.776773Z"
    },
    "papermill": {
     "duration": null,
     "end_time": null,
     "exception": null,
     "start_time": null,
     "status": "pending"
    },
    "tags": []
   },
   "outputs": [
    {
     "name": "stdout",
     "output_type": "stream",
     "text": [
      "Accuracy with max_depth 6: 0.7877094972067039\n",
      "Accuracy with max_depth 7: 0.7932960893854749\n",
      "Accuracy with max_depth 10: 0.7988826815642458\n"
     ]
    }
   ],
   "source": [
    "# Tree with original feature, more depth\n",
    "\n",
    "target = train_df['Survived']\n",
    "train = train_df[\n",
    "    ['Pclass','Age','SibSp','Parch','Fare',\n",
    "     'SexMale','SexFemale','EmbarkedS','EmbarkedQ','EmbarkedC']\n",
    "]\n",
    "\n",
    "x_train, x_validation, y_train, y_validation = train_test_split(\n",
    "    train, target, test_size=0.2, random_state=17\n",
    ")\n",
    "\n",
    "# Tree with max_depth 6\n",
    "tree_depth6 = DecisionTreeClassifier(max_depth=6, random_state=17)\n",
    "tree_depth6.fit(x_train, y_train)\n",
    "\n",
    "tree_depth6_prediction = tree_depth6.predict(x_validation)\n",
    "\n",
    "# Tree with max_depth 7\n",
    "tree_depth7 = DecisionTreeClassifier(max_depth=7, random_state=17)\n",
    "tree_depth7.fit(x_train, y_train)\n",
    "\n",
    "tree_depth7_prediction = tree_depth7.predict(x_validation)\n",
    "\n",
    "# Tree with max_depth 10\n",
    "tree_depth10 = DecisionTreeClassifier(max_depth=10, random_state=17)\n",
    "tree_depth10.fit(x_train, y_train)\n",
    "\n",
    "tree_depth10_prediction = tree_depth10.predict(x_validation)\n",
    "\n",
    "print('Accuracy with max_depth 6:',accuracy_score(y_validation, tree_depth6_prediction))\n",
    "print('Accuracy with max_depth 7:',accuracy_score(y_validation, tree_depth7_prediction))\n",
    "print('Accuracy with max_depth 10:',accuracy_score(y_validation, tree_depth10_prediction))"
   ]
  },
  {
   "cell_type": "markdown",
   "metadata": {
    "papermill": {
     "duration": null,
     "end_time": null,
     "exception": null,
     "start_time": null,
     "status": "pending"
    },
    "tags": []
   },
   "source": [
    "### 2.3. Exploring alternative trees: training with less features <a name='alternative_features'/>"
   ]
  },
  {
   "cell_type": "markdown",
   "metadata": {
    "papermill": {
     "duration": null,
     "end_time": null,
     "exception": null,
     "start_time": null,
     "status": "pending"
    },
    "tags": []
   },
   "source": [
    "Let's train a tree with less features, removing the ones that we saw in the <a href='./titanic-exploratory-data-analysis.ipynb'>EDA</a> that were highly correlated to other features.\n",
    "\n",
    "We saw that the \"Fare\" feature is highly correlated to the ticket class, and the port of embarkation (\"Embarked\" feature) holds relation to the ticket class as well: most of the passengers picked up at Cherbourg were First class. We will remove these two features, and consider only the \"Pclass\" one, and the rest of the features."
   ]
  },
  {
   "cell_type": "code",
   "execution_count": 22,
   "metadata": {
    "execution": {
     "iopub.execute_input": "2022-06-30T21:16:26.809899Z",
     "iopub.status.busy": "2022-06-30T21:16:26.809533Z",
     "iopub.status.idle": "2022-06-30T21:16:26.831191Z",
     "shell.execute_reply": "2022-06-30T21:16:26.830063Z",
     "shell.execute_reply.started": "2022-06-30T21:16:26.809867Z"
    },
    "papermill": {
     "duration": null,
     "end_time": null,
     "exception": null,
     "start_time": null,
     "status": "pending"
    },
    "tags": []
   },
   "outputs": [
    {
     "data": {
      "text/plain": [
       "0.7821229050279329"
      ]
     },
     "execution_count": 22,
     "metadata": {},
     "output_type": "execute_result"
    }
   ],
   "source": [
    "target = train_df['Survived']\n",
    "train = train_df[\n",
    "    ['Pclass','Age','SibSp','Parch',\n",
    "     'SexMale','SexFemale']\n",
    "]\n",
    "\n",
    "x_train, x_validation, y_train, y_validation = train_test_split(\n",
    "    train, target, test_size=0.2, random_state=17\n",
    ")\n",
    "\n",
    "tree_less_features = DecisionTreeClassifier(max_depth=5, random_state=17)\n",
    "tree_less_features.fit(x_train, y_train)\n",
    "\n",
    "tree_less_features_prediction = tree_less_features.predict(x_validation)\n",
    "accuracy_score(y_validation, tree_less_features_prediction)"
   ]
  },
  {
   "cell_type": "markdown",
   "metadata": {
    "papermill": {
     "duration": null,
     "end_time": null,
     "exception": null,
     "start_time": null,
     "status": "pending"
    },
    "tags": []
   },
   "source": [
    "The performance of the tree does not improve in comparison to the initial one."
   ]
  },
  {
   "cell_type": "markdown",
   "metadata": {
    "papermill": {
     "duration": null,
     "end_time": null,
     "exception": null,
     "start_time": null,
     "status": "pending"
    },
    "tags": []
   },
   "source": [
    "### 2.4. Exploring alternative trees: setting a maximum number of samples in a leaf <a name='alternative_samples'/>"
   ]
  },
  {
   "cell_type": "markdown",
   "metadata": {
    "papermill": {
     "duration": null,
     "end_time": null,
     "exception": null,
     "start_time": null,
     "status": "pending"
    },
    "tags": []
   },
   "source": [
    "Let's set different minimum numbers of samples in a leaf, and see how the performance of the tree changes."
   ]
  },
  {
   "cell_type": "code",
   "execution_count": 23,
   "metadata": {
    "execution": {
     "iopub.execute_input": "2022-06-30T21:16:26.833121Z",
     "iopub.status.busy": "2022-06-30T21:16:26.832767Z",
     "iopub.status.idle": "2022-06-30T21:16:26.854824Z",
     "shell.execute_reply": "2022-06-30T21:16:26.853333Z",
     "shell.execute_reply.started": "2022-06-30T21:16:26.833089Z"
    },
    "papermill": {
     "duration": null,
     "end_time": null,
     "exception": null,
     "start_time": null,
     "status": "pending"
    },
    "tags": []
   },
   "outputs": [
    {
     "data": {
      "text/plain": [
       "0.776536312849162"
      ]
     },
     "execution_count": 23,
     "metadata": {},
     "output_type": "execute_result"
    }
   ],
   "source": [
    "# Minimum of 10 samples in a leaf\n",
    "\n",
    "target = train_df['Survived']\n",
    "train = train_df[\n",
    "    ['Pclass','Age','SibSp','Parch','Fare',\n",
    "     'SexMale','SexFemale','EmbarkedS','EmbarkedQ','EmbarkedC']\n",
    "]\n",
    "\n",
    "x_train, x_validation, y_train, y_validation = train_test_split(\n",
    "    train, target, test_size=0.2, random_state=17\n",
    ")\n",
    "\n",
    "tree_10samples = DecisionTreeClassifier(max_depth=5, min_samples_leaf=10, random_state=17)\n",
    "tree_10samples.fit(x_train, y_train)\n",
    "\n",
    "tree_10samples_prediction = tree_10samples.predict(x_validation)\n",
    "accuracy_score(y_validation, tree_10samples_prediction)"
   ]
  },
  {
   "cell_type": "code",
   "execution_count": 24,
   "metadata": {
    "execution": {
     "iopub.execute_input": "2022-06-30T21:16:26.857624Z",
     "iopub.status.busy": "2022-06-30T21:16:26.857258Z",
     "iopub.status.idle": "2022-06-30T21:16:26.878019Z",
     "shell.execute_reply": "2022-06-30T21:16:26.876786Z",
     "shell.execute_reply.started": "2022-06-30T21:16:26.857592Z"
    },
    "papermill": {
     "duration": null,
     "end_time": null,
     "exception": null,
     "start_time": null,
     "status": "pending"
    },
    "tags": []
   },
   "outputs": [
    {
     "data": {
      "text/plain": [
       "0.770949720670391"
      ]
     },
     "execution_count": 24,
     "metadata": {},
     "output_type": "execute_result"
    }
   ],
   "source": [
    "# Minimum of 20 samples in a leaf\n",
    "\n",
    "target = train_df['Survived']\n",
    "train = train_df[\n",
    "    ['Pclass','Age','SibSp','Parch','Fare',\n",
    "     'SexMale','SexFemale','EmbarkedS','EmbarkedQ','EmbarkedC']\n",
    "]\n",
    "\n",
    "x_train, x_validation, y_train, y_validation = train_test_split(\n",
    "    train, target, test_size=0.2, random_state=17\n",
    ")\n",
    "\n",
    "tree_20samples = DecisionTreeClassifier(max_depth=5, min_samples_leaf=20, random_state=17)\n",
    "tree_20samples.fit(x_train, y_train)\n",
    "\n",
    "tree_20samples_prediction = tree_20samples.predict(x_validation)\n",
    "accuracy_score(y_validation, tree_20samples_prediction)"
   ]
  },
  {
   "cell_type": "code",
   "execution_count": 25,
   "metadata": {
    "execution": {
     "iopub.execute_input": "2022-06-30T21:16:26.945902Z",
     "iopub.status.busy": "2022-06-30T21:16:26.945473Z",
     "iopub.status.idle": "2022-06-30T21:16:26.965809Z",
     "shell.execute_reply": "2022-06-30T21:16:26.964107Z",
     "shell.execute_reply.started": "2022-06-30T21:16:26.945859Z"
    },
    "papermill": {
     "duration": null,
     "end_time": null,
     "exception": null,
     "start_time": null,
     "status": "pending"
    },
    "tags": []
   },
   "outputs": [
    {
     "data": {
      "text/plain": [
       "0.7653631284916201"
      ]
     },
     "execution_count": 25,
     "metadata": {},
     "output_type": "execute_result"
    }
   ],
   "source": [
    "# Minimum of 50 samples in a leaf\n",
    "\n",
    "target = train_df['Survived']\n",
    "train = train_df[\n",
    "    ['Pclass','Age','SibSp','Parch','Fare',\n",
    "     'SexMale','SexFemale','EmbarkedS','EmbarkedQ','EmbarkedC']\n",
    "]\n",
    "\n",
    "x_train, x_validation, y_train, y_validation = train_test_split(\n",
    "    train, target, test_size=0.2, random_state=17\n",
    ")\n",
    "\n",
    "tree_50samples = DecisionTreeClassifier(max_depth=5, min_samples_leaf=50, random_state=17)\n",
    "tree_50samples.fit(x_train, y_train)\n",
    "\n",
    "tree_50samples_prediction = tree_50samples.predict(x_validation)\n",
    "accuracy_score(y_validation, tree_50samples_prediction)"
   ]
  },
  {
   "cell_type": "markdown",
   "metadata": {
    "papermill": {
     "duration": null,
     "end_time": null,
     "exception": null,
     "start_time": null,
     "status": "pending"
    },
    "tags": []
   },
   "source": [
    "## 3. Predictions for the test dataset <a name='test'/>\n",
    "\n",
    "Since we have not seen significant improvement in accuracy for any of the alternative Decision Trees, I will use the initial one, with the original fatures \"SibSp\" and \"Parch\" (`tree_original_features`, the one with the best accuracy, of 80.45%) to predict the survivals for the test set."
   ]
  },
  {
   "cell_type": "code",
   "execution_count": 26,
   "metadata": {
    "execution": {
     "iopub.execute_input": "2022-06-30T21:17:34.730402Z",
     "iopub.status.busy": "2022-06-30T21:17:34.729982Z",
     "iopub.status.idle": "2022-06-30T21:17:34.755775Z",
     "shell.execute_reply": "2022-06-30T21:17:34.754702Z",
     "shell.execute_reply.started": "2022-06-30T21:17:34.730371Z"
    },
    "papermill": {
     "duration": null,
     "end_time": null,
     "exception": null,
     "start_time": null,
     "status": "pending"
    },
    "tags": []
   },
   "outputs": [
    {
     "data": {
      "text/html": [
       "<div>\n",
       "<style scoped>\n",
       "    .dataframe tbody tr th:only-of-type {\n",
       "        vertical-align: middle;\n",
       "    }\n",
       "\n",
       "    .dataframe tbody tr th {\n",
       "        vertical-align: top;\n",
       "    }\n",
       "\n",
       "    .dataframe thead th {\n",
       "        text-align: right;\n",
       "    }\n",
       "</style>\n",
       "<table border=\"1\" class=\"dataframe\">\n",
       "  <thead>\n",
       "    <tr style=\"text-align: right;\">\n",
       "      <th></th>\n",
       "      <th>Pclass</th>\n",
       "      <th>Age</th>\n",
       "      <th>SibSp</th>\n",
       "      <th>Parch</th>\n",
       "      <th>Fare</th>\n",
       "      <th>SibSpAboard</th>\n",
       "      <th>ParChAboard</th>\n",
       "      <th>SexMale</th>\n",
       "      <th>SexFemale</th>\n",
       "      <th>EmbarkedS</th>\n",
       "      <th>EmbarkedQ</th>\n",
       "      <th>EmbarkedC</th>\n",
       "      <th>Survived</th>\n",
       "    </tr>\n",
       "    <tr>\n",
       "      <th>PassengerId</th>\n",
       "      <th></th>\n",
       "      <th></th>\n",
       "      <th></th>\n",
       "      <th></th>\n",
       "      <th></th>\n",
       "      <th></th>\n",
       "      <th></th>\n",
       "      <th></th>\n",
       "      <th></th>\n",
       "      <th></th>\n",
       "      <th></th>\n",
       "      <th></th>\n",
       "      <th></th>\n",
       "    </tr>\n",
       "  </thead>\n",
       "  <tbody>\n",
       "    <tr>\n",
       "      <th>892</th>\n",
       "      <td>3</td>\n",
       "      <td>34.5</td>\n",
       "      <td>0</td>\n",
       "      <td>0</td>\n",
       "      <td>7.8292</td>\n",
       "      <td>0</td>\n",
       "      <td>0</td>\n",
       "      <td>1</td>\n",
       "      <td>0</td>\n",
       "      <td>0</td>\n",
       "      <td>1</td>\n",
       "      <td>0</td>\n",
       "      <td>0</td>\n",
       "    </tr>\n",
       "    <tr>\n",
       "      <th>893</th>\n",
       "      <td>3</td>\n",
       "      <td>47.0</td>\n",
       "      <td>1</td>\n",
       "      <td>0</td>\n",
       "      <td>7.0000</td>\n",
       "      <td>1</td>\n",
       "      <td>0</td>\n",
       "      <td>0</td>\n",
       "      <td>1</td>\n",
       "      <td>1</td>\n",
       "      <td>0</td>\n",
       "      <td>0</td>\n",
       "      <td>0</td>\n",
       "    </tr>\n",
       "    <tr>\n",
       "      <th>894</th>\n",
       "      <td>2</td>\n",
       "      <td>62.0</td>\n",
       "      <td>0</td>\n",
       "      <td>0</td>\n",
       "      <td>9.6875</td>\n",
       "      <td>0</td>\n",
       "      <td>0</td>\n",
       "      <td>1</td>\n",
       "      <td>0</td>\n",
       "      <td>0</td>\n",
       "      <td>1</td>\n",
       "      <td>0</td>\n",
       "      <td>0</td>\n",
       "    </tr>\n",
       "    <tr>\n",
       "      <th>895</th>\n",
       "      <td>3</td>\n",
       "      <td>27.0</td>\n",
       "      <td>0</td>\n",
       "      <td>0</td>\n",
       "      <td>8.6625</td>\n",
       "      <td>0</td>\n",
       "      <td>0</td>\n",
       "      <td>1</td>\n",
       "      <td>0</td>\n",
       "      <td>1</td>\n",
       "      <td>0</td>\n",
       "      <td>0</td>\n",
       "      <td>0</td>\n",
       "    </tr>\n",
       "    <tr>\n",
       "      <th>896</th>\n",
       "      <td>3</td>\n",
       "      <td>22.0</td>\n",
       "      <td>1</td>\n",
       "      <td>1</td>\n",
       "      <td>12.2875</td>\n",
       "      <td>1</td>\n",
       "      <td>1</td>\n",
       "      <td>0</td>\n",
       "      <td>1</td>\n",
       "      <td>1</td>\n",
       "      <td>0</td>\n",
       "      <td>0</td>\n",
       "      <td>1</td>\n",
       "    </tr>\n",
       "  </tbody>\n",
       "</table>\n",
       "</div>"
      ],
      "text/plain": [
       "             Pclass   Age  SibSp  Parch     Fare  SibSpAboard  ParChAboard  \\\n",
       "PassengerId                                                                  \n",
       "892               3  34.5      0      0   7.8292            0            0   \n",
       "893               3  47.0      1      0   7.0000            1            0   \n",
       "894               2  62.0      0      0   9.6875            0            0   \n",
       "895               3  27.0      0      0   8.6625            0            0   \n",
       "896               3  22.0      1      1  12.2875            1            1   \n",
       "\n",
       "             SexMale  SexFemale  EmbarkedS  EmbarkedQ  EmbarkedC  Survived  \n",
       "PassengerId                                                                 \n",
       "892                1          0          0          1          0         0  \n",
       "893                0          1          1          0          0         0  \n",
       "894                1          0          0          1          0         0  \n",
       "895                1          0          1          0          0         0  \n",
       "896                0          1          1          0          0         1  "
      ]
     },
     "execution_count": 26,
     "metadata": {},
     "output_type": "execute_result"
    }
   ],
   "source": [
    "final_tree = tree_original_features\n",
    "\n",
    "test = test_df[\n",
    "    ['Pclass','Age','SibSp','Parch','Fare',\n",
    "     'SexMale','SexFemale','EmbarkedS','EmbarkedQ','EmbarkedC']\n",
    "]\n",
    "\n",
    "predictions = final_tree.predict(test)\n",
    "\n",
    "test_df['Survived'] = predictions\n",
    "test_df.head()"
   ]
  },
  {
   "cell_type": "markdown",
   "metadata": {
    "papermill": {
     "duration": null,
     "end_time": null,
     "exception": null,
     "start_time": null,
     "status": "pending"
    },
    "tags": []
   },
   "source": [
    "I will submit the result to the <a href='https://www.kaggle.com/c/titanic'>Titanic competition</a>."
   ]
  },
  {
   "cell_type": "code",
   "execution_count": 27,
   "metadata": {
    "execution": {
     "iopub.execute_input": "2022-06-30T21:18:09.815792Z",
     "iopub.status.busy": "2022-06-30T21:18:09.815083Z",
     "iopub.status.idle": "2022-06-30T21:18:09.823734Z",
     "shell.execute_reply": "2022-06-30T21:18:09.822629Z",
     "shell.execute_reply.started": "2022-06-30T21:18:09.815756Z"
    },
    "papermill": {
     "duration": null,
     "end_time": null,
     "exception": null,
     "start_time": null,
     "status": "pending"
    },
    "tags": []
   },
   "outputs": [
    {
     "data": {
      "text/plain": [
       "PassengerId\n",
       "892    0\n",
       "893    0\n",
       "894    0\n",
       "895    0\n",
       "896    1\n",
       "Name: Survived, dtype: int64"
      ]
     },
     "execution_count": 27,
     "metadata": {},
     "output_type": "execute_result"
    }
   ],
   "source": [
    "submission_df = test_df['Survived']\n",
    "submission_df.head()"
   ]
  },
  {
   "cell_type": "code",
   "execution_count": 28,
   "metadata": {
    "execution": {
     "iopub.execute_input": "2022-06-30T21:25:42.838446Z",
     "iopub.status.busy": "2022-06-30T21:25:42.838070Z",
     "iopub.status.idle": "2022-06-30T21:25:42.845499Z",
     "shell.execute_reply": "2022-06-30T21:25:42.844728Z",
     "shell.execute_reply.started": "2022-06-30T21:25:42.838415Z"
    },
    "papermill": {
     "duration": null,
     "end_time": null,
     "exception": null,
     "start_time": null,
     "status": "pending"
    },
    "tags": []
   },
   "outputs": [
    {
     "data": {
      "text/plain": [
       "0.35167464114832536"
      ]
     },
     "execution_count": 28,
     "metadata": {},
     "output_type": "execute_result"
    }
   ],
   "source": [
    "submission_df.mean()"
   ]
  },
  {
   "cell_type": "markdown",
   "metadata": {
    "papermill": {
     "duration": null,
     "end_time": null,
     "exception": null,
     "start_time": null,
     "status": "pending"
    },
    "tags": []
   },
   "source": [
    "The proportion of survivals in the test set (35.17%) is close to the proportion of survivals in the train set (38.38%), seen in the <a href='./titanic-exploratory-data-analysis.ipynb'>EDA performed on the Titanic dataset</a>, so the result makes sense."
   ]
  },
  {
   "cell_type": "code",
   "execution_count": 30,
   "metadata": {
    "execution": {
     "iopub.execute_input": "2022-06-30T21:36:21.770136Z",
     "iopub.status.busy": "2022-06-30T21:36:21.769686Z",
     "iopub.status.idle": "2022-06-30T21:36:21.778358Z",
     "shell.execute_reply": "2022-06-30T21:36:21.777319Z",
     "shell.execute_reply.started": "2022-06-30T21:36:21.770094Z"
    },
    "papermill": {
     "duration": null,
     "end_time": null,
     "exception": null,
     "start_time": null,
     "status": "pending"
    },
    "tags": []
   },
   "outputs": [],
   "source": [
    "submission_df.to_csv('data/titanic_decision_tree_submission.csv',header=True,index=True)"
   ]
  },
  {
   "cell_type": "markdown",
   "metadata": {
    "papermill": {
     "duration": null,
     "end_time": null,
     "exception": null,
     "start_time": null,
     "status": "pending"
    },
    "tags": []
   },
   "source": [
    "The score of the submission made using the Decision Tree algorithm is: 0.77751"
   ]
  }
 ],
 "metadata": {
  "kernelspec": {
   "display_name": "ml38_kernel",
   "language": "python",
   "name": "ml38_kernel"
  },
  "language_info": {
   "codemirror_mode": {
    "name": "ipython",
    "version": 3
   },
   "file_extension": ".py",
   "mimetype": "text/x-python",
   "name": "python",
   "nbconvert_exporter": "python",
   "pygments_lexer": "ipython3",
   "version": "3.8.8"
  },
  "papermill": {
   "default_parameters": {},
   "duration": 13.043081,
   "end_time": "2022-06-30T21:38:56.577140",
   "environment_variables": {},
   "exception": true,
   "input_path": "__notebook__.ipynb",
   "output_path": "__notebook__.ipynb",
   "parameters": {},
   "start_time": "2022-06-30T21:38:43.534059",
   "version": "2.3.4"
  }
 },
 "nbformat": 4,
 "nbformat_minor": 5
}
